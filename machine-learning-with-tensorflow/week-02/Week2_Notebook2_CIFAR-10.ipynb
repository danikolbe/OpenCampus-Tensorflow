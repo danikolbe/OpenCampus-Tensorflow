{
  "cells": [
    {
      "cell_type": "markdown",
      "metadata": {
        "id": "SYeHywoecmE7"
      },
      "source": [
        "# Convolutional Neural Networks with CIFAR-10 Dataset\n",
        "\n",
        "## Objective\n",
        "In this exercise, you will:\n",
        "1. Utilize callback functions to halt training when a certain accuracy threshold is met.\n",
        "2. Integrate convolutional and MaxPooling layers into a neural network to enhance image classification accuracy.\n",
        "3. Grasp and demonstrate the benefits of convolution and MaxPooling in image classification tasks.\n",
        "\n",
        "---\n",
        "\n",
        "## Step 1: Import Libraries\n",
        "Let's start by importing the necessary libraries.\n"
      ]
    },
    {
      "cell_type": "code",
      "execution_count": 6,
      "metadata": {
        "id": "Z1yG8EmkcmE8"
      },
      "outputs": [],
      "source": [
        "import numpy as np\n",
        "import matplotlib.pyplot as plt\n",
        "import tensorflow as tf\n",
        "from tensorflow.keras.datasets import cifar10\n",
        "from collections import Counter\n",
        "\n"
      ]
    },
    {
      "cell_type": "markdown",
      "metadata": {
        "id": "Cf8MtZOZcmE8"
      },
      "source": [
        "---\n",
        "\n",
        "## Step 2: Load and Preprocess the Data\n",
        "We'll load the CIFAR-10 dataset and then normalize the pixel values.\n"
      ]
    },
    {
      "cell_type": "code",
      "execution_count": 10,
      "metadata": {
        "id": "zLMGqGN-cmE8",
        "outputId": "c6fe0ac4-5267-4966-baa7-16f019d33668",
        "colab": {
          "base_uri": "https://localhost:8080/"
        }
      },
      "outputs": [
        {
          "output_type": "stream",
          "name": "stdout",
          "text": [
            "(50000, 32, 32, 3)\n",
            "(50000, 1)\n",
            "(10000, 32, 32, 3)\n",
            "(10000, 1)\n"
          ]
        }
      ],
      "source": [
        "# TODO Load the dataset\n",
        "(train_images, train_labels), (test_images, test_labels) = cifar10.load_data() # This I had to look up\n",
        "\n",
        "# Dataset Shapes (For images returns \"batch, H, W, channels (rgb)\")\n",
        "print(train_images.shape)\n",
        "print(train_labels.shape)\n",
        "print(test_images.shape)\n",
        "print(test_labels.shape)\n",
        "\n",
        "\n",
        "# TODO Normalize the pixel values\n",
        "train_images = train_images / 255\n",
        "test_images = test_images / 255"
      ]
    },
    {
      "cell_type": "markdown",
      "metadata": {
        "id": "q5IoNX4ecmE9"
      },
      "source": [
        "---\n",
        "\n",
        "## Step 3: Visualize the Data\n",
        "Show some samples from the CIFAR-10 dataset.\n"
      ]
    },
    {
      "cell_type": "code",
      "execution_count": null,
      "metadata": {
        "id": "bNIE5KsocmE9"
      },
      "outputs": [],
      "source": [
        "class_names = ['airplane', 'automobile', 'bird', 'cat', 'deer',\n",
        "               'dog', 'frog', 'horse', 'ship', 'truck']\n",
        "\n",
        "plt.figure(figsize=(10,10))\n",
        "for i in range(25):\n",
        "    plt.subplot(5,5,i+1)\n",
        "    plt.xticks([])\n",
        "    plt.yticks([])\n",
        "    plt.grid(False)\n",
        "    plt.imshow(train_images[i])\n",
        "    # The CIFAR labels happen to be arrays, which is why you need the extra index\n",
        "    plt.xlabel(class_names[train_labels[i][0]])\n",
        "plt.show()\n"
      ]
    },
    {
      "cell_type": "markdown",
      "metadata": {
        "id": "6MPU-DmpcmE9"
      },
      "source": [
        "---\n",
        "\n",
        "## Step 4: Define a Callback\n",
        "Create a callback to monitor the model's accuracy and halt training when a specified accuracy is achieved.\n"
      ]
    },
    {
      "cell_type": "code",
      "execution_count": null,
      "metadata": {
        "id": "2jQ8kwYdcmE9"
      },
      "outputs": [],
      "source": []
    },
    {
      "cell_type": "markdown",
      "metadata": {
        "id": "jKt9HGdPcmE9"
      },
      "source": [
        "---\n",
        "\n",
        "## Step 5: Build a Convolutional Neural Network\n",
        "Construct a neural network that incorporates convolutional and MaxPooling layers.\n"
      ]
    },
    {
      "cell_type": "code",
      "execution_count": null,
      "metadata": {
        "id": "TloCb074cmE-"
      },
      "outputs": [],
      "source": [
        "# TODO Build the model\n",
        "\n",
        "# TODO Compile the model"
      ]
    },
    {
      "cell_type": "markdown",
      "metadata": {
        "id": "nK528_XHcmE-"
      },
      "source": [
        "---\n",
        "\n",
        "## Step 6: Train the Model\n",
        "Train the model using the training data and your callback function\n"
      ]
    },
    {
      "cell_type": "code",
      "execution_count": null,
      "metadata": {
        "id": "LrLR4DepcmE-"
      },
      "outputs": [],
      "source": [
        "\n"
      ]
    },
    {
      "cell_type": "markdown",
      "metadata": {
        "id": "lVVinww0cmE-"
      },
      "source": [
        "---\n",
        "\n",
        "## Step 7: Evaluate the Model\n",
        "Assess the model using the test data.\n"
      ]
    },
    {
      "cell_type": "code",
      "execution_count": null,
      "metadata": {
        "id": "fcJ6SRvrcmE-"
      },
      "outputs": [],
      "source": [
        "\n"
      ]
    },
    {
      "cell_type": "markdown",
      "metadata": {
        "id": "agnj6pQ4cmE-"
      },
      "source": [
        "---\n",
        "\n",
        "## Step 8 (Optional): Visualizing the Advantages of Convolution and MaxPooling\n",
        "Demonstrate the benefits of convolution and MaxPooling. For this, we can extract the outputs from intermediate layers and visualize them. Play around with this to to find out what the model learns.\n"
      ]
    },
    {
      "cell_type": "code",
      "execution_count": null,
      "metadata": {
        "id": "0uCxU0aEcmE-"
      },
      "outputs": [],
      "source": [
        "# Extracting outputs from our layers\n",
        "layer_outputs = [layer.output for layer in model.layers]\n",
        "activation_model = tf.keras.models.Model(inputs=model.input, outputs=layer_outputs)\n",
        "\n",
        "# For the first image in the training set\n",
        "img = train_images[0]\n",
        "img = np.expand_dims(img, axis=0)\n",
        "\n",
        "# Get the feature maps\n",
        "activations = activation_model.predict(img)\n",
        "\n",
        "# Visualizing the fourth channel of the output from the first layer (convolution)\n",
        "plt.imshow(activations[0][0, :, :, 4], cmap='inferno')\n",
        "plt.axis('off')\n",
        "plt.show()\n"
      ]
    }
  ],
  "metadata": {
    "kernelspec": {
      "display_name": ".ve_tensorflow_course",
      "language": "python",
      "name": "python3"
    },
    "language_info": {
      "codemirror_mode": {
        "name": "ipython",
        "version": 3
      },
      "file_extension": ".py",
      "mimetype": "text/x-python",
      "name": "python",
      "nbconvert_exporter": "python",
      "pygments_lexer": "ipython3",
      "version": "3.10.10"
    },
    "orig_nbformat": 4,
    "colab": {
      "provenance": []
    }
  },
  "nbformat": 4,
  "nbformat_minor": 0
}