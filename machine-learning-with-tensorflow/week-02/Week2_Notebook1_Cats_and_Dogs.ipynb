{
  "cells": [
    {
      "cell_type": "markdown",
      "metadata": {
        "id": "wvTwkHSoAMbR"
      },
      "source": [
        "# Image Preprocessing and Binary Classification with Keras\n",
        "\n",
        "## Objective\n",
        "\n",
        "In this week's exercise, you will:\n",
        "1. Learn how to do image preprocessing in Keras\n",
        "2. Build a multilayer neural network for binary classification\n",
        "3. Train the model on a real-world dataset of cats and dogs\n",
        "4. Monitor performance using a validation dataset\n",
        "\n",
        "---\n",
        "\n",
        "## Step 1: Import Libraries\n",
        "\n",
        "Let's start by importing the necessary libraries."
      ]
    },
    {
      "cell_type": "code",
      "execution_count": 2,
      "metadata": {
        "id": "Z47M-Fs2AMbT"
      },
      "outputs": [],
      "source": [
        "import numpy as np\n",
        "import tensorflow as tf\n",
        "import tensorflow_datasets as tfds\n",
        "from tensorflow.keras.models import Sequential\n",
        "from tensorflow.keras.layers import Conv2D, Dense, Dropout, Flatten, Input, MaxPooling2D, Rescaling"
      ]
    },
    {
      "cell_type": "markdown",
      "metadata": {
        "id": "Re1vlwMnAMbU"
      },
      "source": [
        "---\n",
        "\n",
        "## Step 2: Load and Preprocess the Data\n",
        "\n",
        "Use `tfds.load()` to load the \"cats_vs_dogs\" dataset.\n",
        "\n",
        "Find a way to split the dataset into a training and a validation set.\n",
        "\n",
        "Also research how to apply necessary preprocessing to the data and do so (some of the preprocessing can also later be done using layers of the model).\n",
        "\n",
        "*Note*: You can also get the dataset from other sources. However, there are some known issues with corrupted images, which then need to be addressed."
      ]
    },
    {
      "cell_type": "code",
      "execution_count": 11,
      "metadata": {
        "id": "q6zgeL65AMbU"
      },
      "outputs": [],
      "source": [
        "# TODO: load the dataset\n",
        "c_v_d_train = tfds.load(\"cats_vs_dogs\", split=\"train\", as_supervised=True, shuffle_files=True)\n",
        "\n",
        "## Normalize pixels\n",
        "def preprocess(image, label):\n",
        "    image = tf.image.resize(image, [128, 128])\n",
        "    image = image / 255.0  # Normalize to [0,1]\n",
        "    return image, label\n",
        "\n",
        "dataset = c_v_d_train.map(preprocess).batch(32).prefetch(tf.data.AUTOTUNE)"
      ]
    },
    {
      "cell_type": "markdown",
      "metadata": {
        "id": "TVjIAnw-AMbU"
      },
      "source": [
        "---\n",
        "\n",
        "## Step 3: Build a Multilayer Neural Network\n",
        "\n",
        "Build a multilayer neural network for binary classification. Apply your knowledge from the Coursera lectures to choose an adequate model architecture."
      ]
    },
    {
      "cell_type": "code",
      "execution_count": 9,
      "metadata": {
        "id": "59uaudC_AMbU"
      },
      "outputs": [],
      "source": [
        "# TODO build a model\n",
        "model = ...\n",
        "\n",
        "# TODO compile the model\n"
      ]
    },
    {
      "cell_type": "markdown",
      "metadata": {
        "id": "tozYm_LVAMbU"
      },
      "source": [
        "---\n",
        "\n",
        "## Step 4: Train the Model\n",
        "\n",
        "Train the model using the training dataset you created. Monitor performance during training using the validation dataset."
      ]
    },
    {
      "cell_type": "code",
      "execution_count": null,
      "metadata": {
        "id": "evHuz-7NAMbU"
      },
      "outputs": [],
      "source": [
        "# TODO: train the model"
      ]
    },
    {
      "cell_type": "markdown",
      "metadata": {
        "id": "2Zxyb0ltAMbV"
      },
      "source": [
        "---\n",
        "\n",
        "## Step 5: Evaluate the Model\n",
        "\n",
        "After training, you may upload some test images to evaluate your model."
      ]
    },
    {
      "cell_type": "code",
      "execution_count": null,
      "metadata": {
        "id": "5hbxU__VAMbV"
      },
      "outputs": [],
      "source": [
        "from google.colab import files\n",
        "from tensorflow.keras.preprocessing import image\n",
        "\n",
        "\n",
        "def load_and_predict(model):\n",
        "    uploaded_files = files.upload()\n",
        "\n",
        "    for fn in uploaded_files.keys():\n",
        "        path = '/content/' + fn\n",
        "        img = image.load_img(path, target_size=(150, 150))\n",
        "\n",
        "        x = image.img_to_array(img)\n",
        "        x = np.expand_dims(x, axis=0) / 255.0\n",
        "\n",
        "        classes = model.predict(x)\n",
        "        result = \"a dog\" if classes[0] > 0.5 else \"a cat\"\n",
        "\n",
        "        print(f'The model predicts that the image is of {result}')\n",
        "\n",
        "# Call the function to upload images and get predictions\n",
        "load_and_predict(model)"
      ]
    }
  ],
  "metadata": {
    "kernelspec": {
      "display_name": ".ve_tensorflow_course",
      "language": "python",
      "name": "python3"
    },
    "language_info": {
      "codemirror_mode": {
        "name": "ipython",
        "version": 3
      },
      "file_extension": ".py",
      "mimetype": "text/x-python",
      "name": "python",
      "nbconvert_exporter": "python",
      "pygments_lexer": "ipython3",
      "version": "3.10.10"
    },
    "colab": {
      "provenance": []
    }
  },
  "nbformat": 4,
  "nbformat_minor": 0
}